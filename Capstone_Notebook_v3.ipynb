{
 "cells": [
  {
   "cell_type": "code",
   "execution_count": 122,
   "metadata": {},
   "outputs": [],
   "source": [
    "import pandas as pd\n",
    "import numpy as np"
   ]
  },
  {
   "cell_type": "code",
   "execution_count": 123,
   "metadata": {},
   "outputs": [
    {
     "name": "stderr",
     "output_type": "stream",
     "text": [
      "C:\\Users\\cklui\\Anaconda3\\lib\\site-packages\\IPython\\core\\interactiveshell.py:3058: DtypeWarning: Columns (33) have mixed types. Specify dtype option on import or set low_memory=False.\n",
      "  interactivity=interactivity, compiler=compiler, result=result)\n"
     ]
    },
    {
     "data": {
      "text/html": [
       "<div>\n",
       "<style scoped>\n",
       "    .dataframe tbody tr th:only-of-type {\n",
       "        vertical-align: middle;\n",
       "    }\n",
       "\n",
       "    .dataframe tbody tr th {\n",
       "        vertical-align: top;\n",
       "    }\n",
       "\n",
       "    .dataframe thead th {\n",
       "        text-align: right;\n",
       "    }\n",
       "</style>\n",
       "<table border=\"1\" class=\"dataframe\">\n",
       "  <thead>\n",
       "    <tr style=\"text-align: right;\">\n",
       "      <th></th>\n",
       "      <th>SEVERITYCODE</th>\n",
       "      <th>ADDRTYPE</th>\n",
       "      <th>INATTENTIONIND</th>\n",
       "      <th>UNDERINFL</th>\n",
       "      <th>PEDROWNOTGRNT</th>\n",
       "      <th>SPEEDING</th>\n",
       "      <th>LIGHTCOND</th>\n",
       "    </tr>\n",
       "  </thead>\n",
       "  <tbody>\n",
       "    <tr>\n",
       "      <td>0</td>\n",
       "      <td>2</td>\n",
       "      <td>Intersection</td>\n",
       "      <td>NaN</td>\n",
       "      <td>N</td>\n",
       "      <td>NaN</td>\n",
       "      <td>NaN</td>\n",
       "      <td>Daylight</td>\n",
       "    </tr>\n",
       "    <tr>\n",
       "      <td>1</td>\n",
       "      <td>1</td>\n",
       "      <td>Block</td>\n",
       "      <td>NaN</td>\n",
       "      <td>0</td>\n",
       "      <td>NaN</td>\n",
       "      <td>NaN</td>\n",
       "      <td>Dark - Street Lights On</td>\n",
       "    </tr>\n",
       "    <tr>\n",
       "      <td>2</td>\n",
       "      <td>1</td>\n",
       "      <td>Block</td>\n",
       "      <td>NaN</td>\n",
       "      <td>0</td>\n",
       "      <td>NaN</td>\n",
       "      <td>NaN</td>\n",
       "      <td>Daylight</td>\n",
       "    </tr>\n",
       "    <tr>\n",
       "      <td>3</td>\n",
       "      <td>1</td>\n",
       "      <td>Block</td>\n",
       "      <td>NaN</td>\n",
       "      <td>N</td>\n",
       "      <td>NaN</td>\n",
       "      <td>NaN</td>\n",
       "      <td>Daylight</td>\n",
       "    </tr>\n",
       "    <tr>\n",
       "      <td>4</td>\n",
       "      <td>2</td>\n",
       "      <td>Intersection</td>\n",
       "      <td>NaN</td>\n",
       "      <td>0</td>\n",
       "      <td>NaN</td>\n",
       "      <td>NaN</td>\n",
       "      <td>Daylight</td>\n",
       "    </tr>\n",
       "    <tr>\n",
       "      <td>...</td>\n",
       "      <td>...</td>\n",
       "      <td>...</td>\n",
       "      <td>...</td>\n",
       "      <td>...</td>\n",
       "      <td>...</td>\n",
       "      <td>...</td>\n",
       "      <td>...</td>\n",
       "    </tr>\n",
       "    <tr>\n",
       "      <td>194668</td>\n",
       "      <td>2</td>\n",
       "      <td>Block</td>\n",
       "      <td>NaN</td>\n",
       "      <td>N</td>\n",
       "      <td>NaN</td>\n",
       "      <td>NaN</td>\n",
       "      <td>Daylight</td>\n",
       "    </tr>\n",
       "    <tr>\n",
       "      <td>194669</td>\n",
       "      <td>1</td>\n",
       "      <td>Block</td>\n",
       "      <td>Y</td>\n",
       "      <td>N</td>\n",
       "      <td>NaN</td>\n",
       "      <td>NaN</td>\n",
       "      <td>Daylight</td>\n",
       "    </tr>\n",
       "    <tr>\n",
       "      <td>194670</td>\n",
       "      <td>2</td>\n",
       "      <td>Intersection</td>\n",
       "      <td>NaN</td>\n",
       "      <td>N</td>\n",
       "      <td>NaN</td>\n",
       "      <td>NaN</td>\n",
       "      <td>Daylight</td>\n",
       "    </tr>\n",
       "    <tr>\n",
       "      <td>194671</td>\n",
       "      <td>2</td>\n",
       "      <td>Intersection</td>\n",
       "      <td>NaN</td>\n",
       "      <td>N</td>\n",
       "      <td>NaN</td>\n",
       "      <td>NaN</td>\n",
       "      <td>Dusk</td>\n",
       "    </tr>\n",
       "    <tr>\n",
       "      <td>194672</td>\n",
       "      <td>1</td>\n",
       "      <td>Block</td>\n",
       "      <td>NaN</td>\n",
       "      <td>N</td>\n",
       "      <td>NaN</td>\n",
       "      <td>NaN</td>\n",
       "      <td>Daylight</td>\n",
       "    </tr>\n",
       "  </tbody>\n",
       "</table>\n",
       "<p>194673 rows × 7 columns</p>\n",
       "</div>"
      ],
      "text/plain": [
       "        SEVERITYCODE      ADDRTYPE INATTENTIONIND UNDERINFL PEDROWNOTGRNT  \\\n",
       "0                  2  Intersection            NaN         N           NaN   \n",
       "1                  1         Block            NaN         0           NaN   \n",
       "2                  1         Block            NaN         0           NaN   \n",
       "3                  1         Block            NaN         N           NaN   \n",
       "4                  2  Intersection            NaN         0           NaN   \n",
       "...              ...           ...            ...       ...           ...   \n",
       "194668             2         Block            NaN         N           NaN   \n",
       "194669             1         Block              Y         N           NaN   \n",
       "194670             2  Intersection            NaN         N           NaN   \n",
       "194671             2  Intersection            NaN         N           NaN   \n",
       "194672             1         Block            NaN         N           NaN   \n",
       "\n",
       "       SPEEDING                LIGHTCOND  \n",
       "0           NaN                 Daylight  \n",
       "1           NaN  Dark - Street Lights On  \n",
       "2           NaN                 Daylight  \n",
       "3           NaN                 Daylight  \n",
       "4           NaN                 Daylight  \n",
       "...         ...                      ...  \n",
       "194668      NaN                 Daylight  \n",
       "194669      NaN                 Daylight  \n",
       "194670      NaN                 Daylight  \n",
       "194671      NaN                     Dusk  \n",
       "194672      NaN                 Daylight  \n",
       "\n",
       "[194673 rows x 7 columns]"
      ]
     },
     "execution_count": 123,
     "metadata": {},
     "output_type": "execute_result"
    }
   ],
   "source": [
    "df_raw=pd.read_csv('Data-Collisions.csv')\n",
    "df0=df_raw[['SEVERITYCODE','ADDRTYPE','INATTENTIONIND','UNDERINFL','PEDROWNOTGRNT','SPEEDING','LIGHTCOND']]\n",
    "df0"
   ]
  },
  {
   "cell_type": "code",
   "execution_count": 124,
   "metadata": {},
   "outputs": [
    {
     "name": "stdout",
     "output_type": "stream",
     "text": [
      "1: Distribution of SEVERITYCODE\n",
      "1    136485\n",
      "2     58188\n",
      "Name: SEVERITYCODE, dtype: int64\n",
      "\n",
      "2: Distribution of ADDRTYPE\n",
      "Block           126926\n",
      "Intersection     65070\n",
      "Alley              751\n",
      "Name: ADDRTYPE, dtype: int64\n",
      "\n",
      "3: Distribution of INATTENTIONIND\n",
      "Y    29805\n",
      "Name: INATTENTIONIND, dtype: int64\n",
      "\n",
      "4: Distribution of UNDERINFL\n",
      "N    100274\n",
      "0     80394\n",
      "Y      5126\n",
      "1      3995\n",
      "Name: UNDERINFL, dtype: int64\n",
      "\n",
      "5: Distribution of PEDROWNOTGRNT\n",
      "Y    4667\n",
      "Name: PEDROWNOTGRNT, dtype: int64\n",
      "\n",
      "6: Distribution of SPEEDING\n",
      "Y    9333\n",
      "Name: SPEEDING, dtype: int64\n",
      "\n",
      "7: Distribution of LIGHTCOND\n",
      "Daylight                    116137\n",
      "Dark - Street Lights On      48507\n",
      "Unknown                      13473\n",
      "Dusk                          5902\n",
      "Dawn                          2502\n",
      "Dark - No Street Lights       1537\n",
      "Dark - Street Lights Off      1199\n",
      "Other                          235\n",
      "Dark - Unknown Lighting         11\n",
      "Name: LIGHTCOND, dtype: int64\n",
      "\n"
     ]
    }
   ],
   "source": [
    "column_list=df0.columns.to_list()\n",
    "i=1\n",
    "for name in column_list:\n",
    "    print(str(i) + ': Distribution of ' + name)\n",
    "    print(df0[name].value_counts())\n",
    "    print('')\n",
    "    i=i+1"
   ]
  },
  {
   "cell_type": "code",
   "execution_count": 125,
   "metadata": {},
   "outputs": [],
   "source": [
    "df1=df0.dropna(subset=['ADDRTYPE','UNDERINFL','LIGHTCOND'])"
   ]
  },
  {
   "cell_type": "code",
   "execution_count": 126,
   "metadata": {},
   "outputs": [
    {
     "name": "stdout",
     "output_type": "stream",
     "text": [
      "1: Distribution of SEVERITYCODE\n",
      "1    130761\n",
      "2     56928\n",
      "Name: SEVERITYCODE, dtype: int64\n",
      "\n",
      "2: Distribution of ADDRTYPE\n",
      "Block           123441\n",
      "Intersection     63503\n",
      "Alley              745\n",
      "Name: ADDRTYPE, dtype: int64\n",
      "\n",
      "3: Distribution of INATTENTIONIND\n",
      "Y    29620\n",
      "Name: INATTENTIONIND, dtype: int64\n",
      "\n",
      "4: Distribution of UNDERINFL\n",
      "N    98897\n",
      "0    79712\n",
      "Y     5088\n",
      "1     3992\n",
      "Name: UNDERINFL, dtype: int64\n",
      "\n",
      "5: Distribution of PEDROWNOTGRNT\n",
      "Y    4662\n",
      "Name: PEDROWNOTGRNT, dtype: int64\n",
      "\n",
      "6: Distribution of SPEEDING\n",
      "Y    9274\n",
      "Name: SPEEDING, dtype: int64\n",
      "\n",
      "7: Distribution of LIGHTCOND\n",
      "Daylight                    115468\n",
      "Dark - Street Lights On      48301\n",
      "Unknown                      12616\n",
      "Dusk                          5856\n",
      "Dawn                          2491\n",
      "Dark - No Street Lights       1528\n",
      "Dark - Street Lights Off      1191\n",
      "Other                          227\n",
      "Dark - Unknown Lighting         11\n",
      "Name: LIGHTCOND, dtype: int64\n",
      "\n"
     ]
    }
   ],
   "source": [
    "column_list=df1.columns.to_list()\n",
    "i=1\n",
    "for name in column_list:\n",
    "    print(str(i) + ': Distribution of ' + name)\n",
    "    print(df1[name].value_counts())\n",
    "    print('')\n",
    "    i=i+1"
   ]
  },
  {
   "cell_type": "code",
   "execution_count": 127,
   "metadata": {},
   "outputs": [
    {
     "data": {
      "text/html": [
       "<div>\n",
       "<style scoped>\n",
       "    .dataframe tbody tr th:only-of-type {\n",
       "        vertical-align: middle;\n",
       "    }\n",
       "\n",
       "    .dataframe tbody tr th {\n",
       "        vertical-align: top;\n",
       "    }\n",
       "\n",
       "    .dataframe thead th {\n",
       "        text-align: right;\n",
       "    }\n",
       "</style>\n",
       "<table border=\"1\" class=\"dataframe\">\n",
       "  <thead>\n",
       "    <tr style=\"text-align: right;\">\n",
       "      <th></th>\n",
       "      <th>SEVERITYCODE</th>\n",
       "      <th>ADDRTYPE</th>\n",
       "      <th>INATTENTIONIND</th>\n",
       "      <th>UNDERINFL</th>\n",
       "      <th>PEDROWNOTGRNT</th>\n",
       "      <th>SPEEDING</th>\n",
       "      <th>LIGHTCOND</th>\n",
       "    </tr>\n",
       "  </thead>\n",
       "  <tbody>\n",
       "    <tr>\n",
       "      <td>0</td>\n",
       "      <td>2</td>\n",
       "      <td>Intersection</td>\n",
       "      <td>NaN</td>\n",
       "      <td>N</td>\n",
       "      <td>NaN</td>\n",
       "      <td>NaN</td>\n",
       "      <td>Daylight</td>\n",
       "    </tr>\n",
       "    <tr>\n",
       "      <td>1</td>\n",
       "      <td>1</td>\n",
       "      <td>Block</td>\n",
       "      <td>NaN</td>\n",
       "      <td>0</td>\n",
       "      <td>NaN</td>\n",
       "      <td>NaN</td>\n",
       "      <td>Dark - Street Lights On</td>\n",
       "    </tr>\n",
       "    <tr>\n",
       "      <td>2</td>\n",
       "      <td>1</td>\n",
       "      <td>Block</td>\n",
       "      <td>NaN</td>\n",
       "      <td>0</td>\n",
       "      <td>NaN</td>\n",
       "      <td>NaN</td>\n",
       "      <td>Daylight</td>\n",
       "    </tr>\n",
       "    <tr>\n",
       "      <td>3</td>\n",
       "      <td>1</td>\n",
       "      <td>Block</td>\n",
       "      <td>NaN</td>\n",
       "      <td>N</td>\n",
       "      <td>NaN</td>\n",
       "      <td>NaN</td>\n",
       "      <td>Daylight</td>\n",
       "    </tr>\n",
       "    <tr>\n",
       "      <td>4</td>\n",
       "      <td>2</td>\n",
       "      <td>Intersection</td>\n",
       "      <td>NaN</td>\n",
       "      <td>0</td>\n",
       "      <td>NaN</td>\n",
       "      <td>NaN</td>\n",
       "      <td>Daylight</td>\n",
       "    </tr>\n",
       "    <tr>\n",
       "      <td>...</td>\n",
       "      <td>...</td>\n",
       "      <td>...</td>\n",
       "      <td>...</td>\n",
       "      <td>...</td>\n",
       "      <td>...</td>\n",
       "      <td>...</td>\n",
       "      <td>...</td>\n",
       "    </tr>\n",
       "    <tr>\n",
       "      <td>194668</td>\n",
       "      <td>2</td>\n",
       "      <td>Block</td>\n",
       "      <td>NaN</td>\n",
       "      <td>N</td>\n",
       "      <td>NaN</td>\n",
       "      <td>NaN</td>\n",
       "      <td>Daylight</td>\n",
       "    </tr>\n",
       "    <tr>\n",
       "      <td>194669</td>\n",
       "      <td>1</td>\n",
       "      <td>Block</td>\n",
       "      <td>Y</td>\n",
       "      <td>N</td>\n",
       "      <td>NaN</td>\n",
       "      <td>NaN</td>\n",
       "      <td>Daylight</td>\n",
       "    </tr>\n",
       "    <tr>\n",
       "      <td>194670</td>\n",
       "      <td>2</td>\n",
       "      <td>Intersection</td>\n",
       "      <td>NaN</td>\n",
       "      <td>N</td>\n",
       "      <td>NaN</td>\n",
       "      <td>NaN</td>\n",
       "      <td>Daylight</td>\n",
       "    </tr>\n",
       "    <tr>\n",
       "      <td>194671</td>\n",
       "      <td>2</td>\n",
       "      <td>Intersection</td>\n",
       "      <td>NaN</td>\n",
       "      <td>N</td>\n",
       "      <td>NaN</td>\n",
       "      <td>NaN</td>\n",
       "      <td>Dusk</td>\n",
       "    </tr>\n",
       "    <tr>\n",
       "      <td>194672</td>\n",
       "      <td>1</td>\n",
       "      <td>Block</td>\n",
       "      <td>NaN</td>\n",
       "      <td>N</td>\n",
       "      <td>NaN</td>\n",
       "      <td>NaN</td>\n",
       "      <td>Daylight</td>\n",
       "    </tr>\n",
       "  </tbody>\n",
       "</table>\n",
       "<p>174835 rows × 7 columns</p>\n",
       "</div>"
      ],
      "text/plain": [
       "        SEVERITYCODE      ADDRTYPE INATTENTIONIND UNDERINFL PEDROWNOTGRNT  \\\n",
       "0                  2  Intersection            NaN         N           NaN   \n",
       "1                  1         Block            NaN         0           NaN   \n",
       "2                  1         Block            NaN         0           NaN   \n",
       "3                  1         Block            NaN         N           NaN   \n",
       "4                  2  Intersection            NaN         0           NaN   \n",
       "...              ...           ...            ...       ...           ...   \n",
       "194668             2         Block            NaN         N           NaN   \n",
       "194669             1         Block              Y         N           NaN   \n",
       "194670             2  Intersection            NaN         N           NaN   \n",
       "194671             2  Intersection            NaN         N           NaN   \n",
       "194672             1         Block            NaN         N           NaN   \n",
       "\n",
       "       SPEEDING                LIGHTCOND  \n",
       "0           NaN                 Daylight  \n",
       "1           NaN  Dark - Street Lights On  \n",
       "2           NaN                 Daylight  \n",
       "3           NaN                 Daylight  \n",
       "4           NaN                 Daylight  \n",
       "...         ...                      ...  \n",
       "194668      NaN                 Daylight  \n",
       "194669      NaN                 Daylight  \n",
       "194670      NaN                 Daylight  \n",
       "194671      NaN                     Dusk  \n",
       "194672      NaN                 Daylight  \n",
       "\n",
       "[174835 rows x 7 columns]"
      ]
     },
     "execution_count": 127,
     "metadata": {},
     "output_type": "execute_result"
    }
   ],
   "source": [
    "df2=df1[~df1['LIGHTCOND'].isin(['Unknown','Other','Dark - Unknown Lighting'])]\n",
    "df2"
   ]
  },
  {
   "cell_type": "code",
   "execution_count": 128,
   "metadata": {},
   "outputs": [
    {
     "name": "stdout",
     "output_type": "stream",
     "text": [
      "1: Distribution of SEVERITYCODE\n",
      "1    118552\n",
      "2     56283\n",
      "Name: SEVERITYCODE, dtype: int64\n",
      "\n",
      "2: Distribution of ADDRTYPE\n",
      "Block           111975\n",
      "Intersection     62219\n",
      "Alley              641\n",
      "Name: ADDRTYPE, dtype: int64\n",
      "\n",
      "3: Distribution of INATTENTIONIND\n",
      "Y    28981\n",
      "Name: INATTENTIONIND, dtype: int64\n",
      "\n",
      "4: Distribution of UNDERINFL\n",
      "N    91851\n",
      "0    73959\n",
      "Y     5057\n",
      "1     3968\n",
      "Name: UNDERINFL, dtype: int64\n",
      "\n",
      "5: Distribution of PEDROWNOTGRNT\n",
      "Y    4575\n",
      "Name: PEDROWNOTGRNT, dtype: int64\n",
      "\n",
      "6: Distribution of SPEEDING\n",
      "Y    9165\n",
      "Name: SPEEDING, dtype: int64\n",
      "\n",
      "7: Distribution of LIGHTCOND\n",
      "Daylight                    115468\n",
      "Dark - Street Lights On      48301\n",
      "Dusk                          5856\n",
      "Dawn                          2491\n",
      "Dark - No Street Lights       1528\n",
      "Dark - Street Lights Off      1191\n",
      "Name: LIGHTCOND, dtype: int64\n",
      "\n"
     ]
    }
   ],
   "source": [
    "column_list=df2.columns.to_list()\n",
    "i=1\n",
    "for name in column_list:\n",
    "    print(str(i) + ': Distribution of ' + name)\n",
    "    print(df2[name].value_counts())\n",
    "    print('')\n",
    "    i=i+1"
   ]
  },
  {
   "cell_type": "code",
   "execution_count": 129,
   "metadata": {},
   "outputs": [
    {
     "name": "stdout",
     "output_type": "stream",
     "text": [
      "1: Distribution of SEVERITYCODE\n",
      "1    118552\n",
      "2     56283\n",
      "Name: SEVERITYCODE, dtype: int64\n",
      "\n",
      "2: Distribution of ADDRTYPE\n",
      "Block           111975\n",
      "Intersection     62219\n",
      "Alley              641\n",
      "Name: ADDRTYPE, dtype: int64\n",
      "\n",
      "3: Distribution of INATTENTIONIND\n",
      "0    145854\n",
      "1     28981\n",
      "Name: INATTENTIONIND, dtype: int64\n",
      "\n",
      "4: Distribution of UNDERINFL\n",
      "0    165810\n",
      "1      9025\n",
      "Name: UNDERINFL, dtype: int64\n",
      "\n",
      "5: Distribution of PEDROWNOTGRNT\n",
      "0    170260\n",
      "1      4575\n",
      "Name: PEDROWNOTGRNT, dtype: int64\n",
      "\n",
      "6: Distribution of SPEEDING\n",
      "0    165670\n",
      "1      9165\n",
      "Name: SPEEDING, dtype: int64\n",
      "\n",
      "7: Distribution of LIGHTCOND\n",
      "Daylight                    115468\n",
      "Dark - Street Lights On      48301\n",
      "Dusk                          5856\n",
      "Dawn                          2491\n",
      "Dark - No Street Lights       1528\n",
      "Dark - Street Lights Off      1191\n",
      "Name: LIGHTCOND, dtype: int64\n",
      "\n"
     ]
    }
   ],
   "source": [
    "df=df2.replace(['Y','N',np.nan],['1','0','0'])\n",
    "\n",
    "column_list=df.columns.to_list()\n",
    "i=1\n",
    "for name in column_list:\n",
    "    print(str(i) + ': Distribution of ' + name)\n",
    "    print(df[name].value_counts())\n",
    "    print('')\n",
    "    i=i+1"
   ]
  },
  {
   "cell_type": "code",
   "execution_count": 130,
   "metadata": {},
   "outputs": [
    {
     "data": {
      "text/html": [
       "<div>\n",
       "<style scoped>\n",
       "    .dataframe tbody tr th:only-of-type {\n",
       "        vertical-align: middle;\n",
       "    }\n",
       "\n",
       "    .dataframe tbody tr th {\n",
       "        vertical-align: top;\n",
       "    }\n",
       "\n",
       "    .dataframe thead th {\n",
       "        text-align: right;\n",
       "    }\n",
       "</style>\n",
       "<table border=\"1\" class=\"dataframe\">\n",
       "  <thead>\n",
       "    <tr style=\"text-align: right;\">\n",
       "      <th></th>\n",
       "      <th>SEVERITYCODE</th>\n",
       "      <th>ADDRTYPE</th>\n",
       "      <th>INATTENTIONIND</th>\n",
       "      <th>UNDERINFL</th>\n",
       "      <th>PEDROWNOTGRNT</th>\n",
       "      <th>SPEEDING</th>\n",
       "      <th>LIGHTCOND</th>\n",
       "    </tr>\n",
       "  </thead>\n",
       "  <tbody>\n",
       "    <tr>\n",
       "      <td>0</td>\n",
       "      <td>2</td>\n",
       "      <td>Intersection</td>\n",
       "      <td>0</td>\n",
       "      <td>0</td>\n",
       "      <td>0</td>\n",
       "      <td>0</td>\n",
       "      <td>Daylight</td>\n",
       "    </tr>\n",
       "    <tr>\n",
       "      <td>1</td>\n",
       "      <td>1</td>\n",
       "      <td>Block</td>\n",
       "      <td>0</td>\n",
       "      <td>0</td>\n",
       "      <td>0</td>\n",
       "      <td>0</td>\n",
       "      <td>Dark - Street Lights On</td>\n",
       "    </tr>\n",
       "    <tr>\n",
       "      <td>2</td>\n",
       "      <td>1</td>\n",
       "      <td>Block</td>\n",
       "      <td>0</td>\n",
       "      <td>0</td>\n",
       "      <td>0</td>\n",
       "      <td>0</td>\n",
       "      <td>Daylight</td>\n",
       "    </tr>\n",
       "    <tr>\n",
       "      <td>3</td>\n",
       "      <td>1</td>\n",
       "      <td>Block</td>\n",
       "      <td>0</td>\n",
       "      <td>0</td>\n",
       "      <td>0</td>\n",
       "      <td>0</td>\n",
       "      <td>Daylight</td>\n",
       "    </tr>\n",
       "    <tr>\n",
       "      <td>4</td>\n",
       "      <td>2</td>\n",
       "      <td>Intersection</td>\n",
       "      <td>0</td>\n",
       "      <td>0</td>\n",
       "      <td>0</td>\n",
       "      <td>0</td>\n",
       "      <td>Daylight</td>\n",
       "    </tr>\n",
       "    <tr>\n",
       "      <td>5</td>\n",
       "      <td>1</td>\n",
       "      <td>Intersection</td>\n",
       "      <td>0</td>\n",
       "      <td>0</td>\n",
       "      <td>0</td>\n",
       "      <td>0</td>\n",
       "      <td>Daylight</td>\n",
       "    </tr>\n",
       "    <tr>\n",
       "      <td>6</td>\n",
       "      <td>1</td>\n",
       "      <td>Intersection</td>\n",
       "      <td>0</td>\n",
       "      <td>0</td>\n",
       "      <td>0</td>\n",
       "      <td>0</td>\n",
       "      <td>Daylight</td>\n",
       "    </tr>\n",
       "    <tr>\n",
       "      <td>7</td>\n",
       "      <td>2</td>\n",
       "      <td>Intersection</td>\n",
       "      <td>0</td>\n",
       "      <td>0</td>\n",
       "      <td>0</td>\n",
       "      <td>0</td>\n",
       "      <td>Daylight</td>\n",
       "    </tr>\n",
       "    <tr>\n",
       "      <td>8</td>\n",
       "      <td>1</td>\n",
       "      <td>Block</td>\n",
       "      <td>0</td>\n",
       "      <td>0</td>\n",
       "      <td>0</td>\n",
       "      <td>0</td>\n",
       "      <td>Daylight</td>\n",
       "    </tr>\n",
       "    <tr>\n",
       "      <td>9</td>\n",
       "      <td>2</td>\n",
       "      <td>Intersection</td>\n",
       "      <td>0</td>\n",
       "      <td>0</td>\n",
       "      <td>0</td>\n",
       "      <td>0</td>\n",
       "      <td>Daylight</td>\n",
       "    </tr>\n",
       "  </tbody>\n",
       "</table>\n",
       "</div>"
      ],
      "text/plain": [
       "   SEVERITYCODE      ADDRTYPE INATTENTIONIND UNDERINFL PEDROWNOTGRNT SPEEDING  \\\n",
       "0             2  Intersection              0         0             0        0   \n",
       "1             1         Block              0         0             0        0   \n",
       "2             1         Block              0         0             0        0   \n",
       "3             1         Block              0         0             0        0   \n",
       "4             2  Intersection              0         0             0        0   \n",
       "5             1  Intersection              0         0             0        0   \n",
       "6             1  Intersection              0         0             0        0   \n",
       "7             2  Intersection              0         0             0        0   \n",
       "8             1         Block              0         0             0        0   \n",
       "9             2  Intersection              0         0             0        0   \n",
       "\n",
       "                 LIGHTCOND  \n",
       "0                 Daylight  \n",
       "1  Dark - Street Lights On  \n",
       "2                 Daylight  \n",
       "3                 Daylight  \n",
       "4                 Daylight  \n",
       "5                 Daylight  \n",
       "6                 Daylight  \n",
       "7                 Daylight  \n",
       "8                 Daylight  \n",
       "9                 Daylight  "
      ]
     },
     "execution_count": 130,
     "metadata": {},
     "output_type": "execute_result"
    }
   ],
   "source": [
    "df.head(10)"
   ]
  },
  {
   "cell_type": "code",
   "execution_count": 131,
   "metadata": {},
   "outputs": [
    {
     "data": {
      "text/plain": [
       "(174835, 7)"
      ]
     },
     "execution_count": 131,
     "metadata": {},
     "output_type": "execute_result"
    }
   ],
   "source": [
    "df.shape"
   ]
  },
  {
   "cell_type": "code",
   "execution_count": 132,
   "metadata": {},
   "outputs": [
    {
     "data": {
      "text/plain": [
       "['SEVERITYCODE',\n",
       " 'ADDRTYPE',\n",
       " 'INATTENTIONIND',\n",
       " 'UNDERINFL',\n",
       " 'PEDROWNOTGRNT',\n",
       " 'SPEEDING',\n",
       " 'LIGHTCOND']"
      ]
     },
     "execution_count": 132,
     "metadata": {},
     "output_type": "execute_result"
    }
   ],
   "source": [
    "column_list=df.columns.to_list()\n",
    "column_list"
   ]
  },
  {
   "cell_type": "code",
   "execution_count": 133,
   "metadata": {},
   "outputs": [
    {
     "name": "stdout",
     "output_type": "stream",
     "text": [
      "1: Distribution of SEVERITYCODE\n",
      "1    118552\n",
      "2     56283\n",
      "Name: SEVERITYCODE, dtype: int64\n",
      "\n",
      "2: Distribution of ADDRTYPE\n",
      "Block           111975\n",
      "Intersection     62219\n",
      "Alley              641\n",
      "Name: ADDRTYPE, dtype: int64\n",
      "\n",
      "3: Distribution of INATTENTIONIND\n",
      "0    145854\n",
      "1     28981\n",
      "Name: INATTENTIONIND, dtype: int64\n",
      "\n",
      "4: Distribution of UNDERINFL\n",
      "0    165810\n",
      "1      9025\n",
      "Name: UNDERINFL, dtype: int64\n",
      "\n",
      "5: Distribution of PEDROWNOTGRNT\n",
      "0    170260\n",
      "1      4575\n",
      "Name: PEDROWNOTGRNT, dtype: int64\n",
      "\n",
      "6: Distribution of SPEEDING\n",
      "0    165670\n",
      "1      9165\n",
      "Name: SPEEDING, dtype: int64\n",
      "\n",
      "7: Distribution of LIGHTCOND\n",
      "Daylight                    115468\n",
      "Dark - Street Lights On      48301\n",
      "Dusk                          5856\n",
      "Dawn                          2491\n",
      "Dark - No Street Lights       1528\n",
      "Dark - Street Lights Off      1191\n",
      "Name: LIGHTCOND, dtype: int64\n",
      "\n"
     ]
    }
   ],
   "source": [
    "i=1\n",
    "for name in column_list:\n",
    "    print(str(i) + ': Distribution of ' + name)\n",
    "    print(df[name].value_counts())\n",
    "    print('')\n",
    "    i=i+1"
   ]
  },
  {
   "cell_type": "code",
   "execution_count": 134,
   "metadata": {},
   "outputs": [
    {
     "data": {
      "text/plain": [
       "SEVERITYCODE       int64\n",
       "ADDRTYPE          object\n",
       "INATTENTIONIND    object\n",
       "UNDERINFL         object\n",
       "PEDROWNOTGRNT     object\n",
       "SPEEDING          object\n",
       "LIGHTCOND         object\n",
       "dtype: object"
      ]
     },
     "execution_count": 134,
     "metadata": {},
     "output_type": "execute_result"
    }
   ],
   "source": [
    "df.dtypes"
   ]
  },
  {
   "cell_type": "code",
   "execution_count": 135,
   "metadata": {},
   "outputs": [
    {
     "data": {
      "text/plain": [
       "['ADDRTYPE', 'LIGHTCOND']"
      ]
     },
     "execution_count": 135,
     "metadata": {},
     "output_type": "execute_result"
    }
   ],
   "source": [
    "features=['ADDRTYPE','LIGHTCOND']\n",
    "features"
   ]
  },
  {
   "cell_type": "code",
   "execution_count": 136,
   "metadata": {},
   "outputs": [
    {
     "name": "stdout",
     "output_type": "stream",
     "text": [
      "['SEVERITYCODE', 'INATTENTIONIND', 'UNDERINFL', 'PEDROWNOTGRNT', 'SPEEDING', 'ADDRTYPE_Alley', 'ADDRTYPE_Block', 'ADDRTYPE_Intersection', 'LIGHTCOND_Dark - No Street Lights', 'LIGHTCOND_Dark - Street Lights Off', 'LIGHTCOND_Dark - Street Lights On', 'LIGHTCOND_Dawn', 'LIGHTCOND_Daylight', 'LIGHTCOND_Dusk']\n"
     ]
    }
   ],
   "source": [
    "features_dummies=pd.get_dummies(df, columns=features)\n",
    "print(list(features_dummies.columns))"
   ]
  },
  {
   "cell_type": "code",
   "execution_count": 137,
   "metadata": {},
   "outputs": [
    {
     "data": {
      "text/plain": [
       "0    2\n",
       "1    1\n",
       "2    1\n",
       "3    1\n",
       "4    2\n",
       "Name: SEVERITYCODE, dtype: int64"
      ]
     },
     "execution_count": 137,
     "metadata": {},
     "output_type": "execute_result"
    }
   ],
   "source": [
    "y=features_dummies['SEVERITYCODE']\n",
    "y.head()"
   ]
  },
  {
   "cell_type": "code",
   "execution_count": 138,
   "metadata": {},
   "outputs": [
    {
     "data": {
      "text/html": [
       "<div>\n",
       "<style scoped>\n",
       "    .dataframe tbody tr th:only-of-type {\n",
       "        vertical-align: middle;\n",
       "    }\n",
       "\n",
       "    .dataframe tbody tr th {\n",
       "        vertical-align: top;\n",
       "    }\n",
       "\n",
       "    .dataframe thead th {\n",
       "        text-align: right;\n",
       "    }\n",
       "</style>\n",
       "<table border=\"1\" class=\"dataframe\">\n",
       "  <thead>\n",
       "    <tr style=\"text-align: right;\">\n",
       "      <th></th>\n",
       "      <th>ADDRTYPE_Alley</th>\n",
       "      <th>ADDRTYPE_Block</th>\n",
       "      <th>ADDRTYPE_Intersection</th>\n",
       "      <th>INATTENTIONIND</th>\n",
       "      <th>UNDERINFL</th>\n",
       "      <th>PEDROWNOTGRNT</th>\n",
       "      <th>SPEEDING</th>\n",
       "      <th>LIGHTCOND_Dark - No Street Lights</th>\n",
       "      <th>LIGHTCOND_Dark - Street Lights Off</th>\n",
       "      <th>LIGHTCOND_Dark - Street Lights On</th>\n",
       "      <th>LIGHTCOND_Dawn</th>\n",
       "      <th>LIGHTCOND_Daylight</th>\n",
       "      <th>LIGHTCOND_Dusk</th>\n",
       "    </tr>\n",
       "  </thead>\n",
       "  <tbody>\n",
       "    <tr>\n",
       "      <td>0</td>\n",
       "      <td>0</td>\n",
       "      <td>0</td>\n",
       "      <td>1</td>\n",
       "      <td>0</td>\n",
       "      <td>0</td>\n",
       "      <td>0</td>\n",
       "      <td>0</td>\n",
       "      <td>0</td>\n",
       "      <td>0</td>\n",
       "      <td>0</td>\n",
       "      <td>0</td>\n",
       "      <td>1</td>\n",
       "      <td>0</td>\n",
       "    </tr>\n",
       "    <tr>\n",
       "      <td>1</td>\n",
       "      <td>0</td>\n",
       "      <td>1</td>\n",
       "      <td>0</td>\n",
       "      <td>0</td>\n",
       "      <td>0</td>\n",
       "      <td>0</td>\n",
       "      <td>0</td>\n",
       "      <td>0</td>\n",
       "      <td>0</td>\n",
       "      <td>1</td>\n",
       "      <td>0</td>\n",
       "      <td>0</td>\n",
       "      <td>0</td>\n",
       "    </tr>\n",
       "    <tr>\n",
       "      <td>2</td>\n",
       "      <td>0</td>\n",
       "      <td>1</td>\n",
       "      <td>0</td>\n",
       "      <td>0</td>\n",
       "      <td>0</td>\n",
       "      <td>0</td>\n",
       "      <td>0</td>\n",
       "      <td>0</td>\n",
       "      <td>0</td>\n",
       "      <td>0</td>\n",
       "      <td>0</td>\n",
       "      <td>1</td>\n",
       "      <td>0</td>\n",
       "    </tr>\n",
       "    <tr>\n",
       "      <td>3</td>\n",
       "      <td>0</td>\n",
       "      <td>1</td>\n",
       "      <td>0</td>\n",
       "      <td>0</td>\n",
       "      <td>0</td>\n",
       "      <td>0</td>\n",
       "      <td>0</td>\n",
       "      <td>0</td>\n",
       "      <td>0</td>\n",
       "      <td>0</td>\n",
       "      <td>0</td>\n",
       "      <td>1</td>\n",
       "      <td>0</td>\n",
       "    </tr>\n",
       "    <tr>\n",
       "      <td>4</td>\n",
       "      <td>0</td>\n",
       "      <td>0</td>\n",
       "      <td>1</td>\n",
       "      <td>0</td>\n",
       "      <td>0</td>\n",
       "      <td>0</td>\n",
       "      <td>0</td>\n",
       "      <td>0</td>\n",
       "      <td>0</td>\n",
       "      <td>0</td>\n",
       "      <td>0</td>\n",
       "      <td>1</td>\n",
       "      <td>0</td>\n",
       "    </tr>\n",
       "  </tbody>\n",
       "</table>\n",
       "</div>"
      ],
      "text/plain": [
       "   ADDRTYPE_Alley  ADDRTYPE_Block  ADDRTYPE_Intersection INATTENTIONIND  \\\n",
       "0               0               0                      1              0   \n",
       "1               0               1                      0              0   \n",
       "2               0               1                      0              0   \n",
       "3               0               1                      0              0   \n",
       "4               0               0                      1              0   \n",
       "\n",
       "  UNDERINFL PEDROWNOTGRNT SPEEDING  LIGHTCOND_Dark - No Street Lights  \\\n",
       "0         0             0        0                                  0   \n",
       "1         0             0        0                                  0   \n",
       "2         0             0        0                                  0   \n",
       "3         0             0        0                                  0   \n",
       "4         0             0        0                                  0   \n",
       "\n",
       "   LIGHTCOND_Dark - Street Lights Off  LIGHTCOND_Dark - Street Lights On  \\\n",
       "0                                   0                                  0   \n",
       "1                                   0                                  1   \n",
       "2                                   0                                  0   \n",
       "3                                   0                                  0   \n",
       "4                                   0                                  0   \n",
       "\n",
       "   LIGHTCOND_Dawn  LIGHTCOND_Daylight  LIGHTCOND_Dusk  \n",
       "0               0                   1               0  \n",
       "1               0                   0               0  \n",
       "2               0                   1               0  \n",
       "3               0                   1               0  \n",
       "4               0                   1               0  "
      ]
     },
     "execution_count": 138,
     "metadata": {},
     "output_type": "execute_result"
    }
   ],
   "source": [
    "X=features_dummies[['ADDRTYPE_Alley', 'ADDRTYPE_Block', 'ADDRTYPE_Intersection', 'INATTENTIONIND', 'UNDERINFL', 'PEDROWNOTGRNT', 'SPEEDING', 'LIGHTCOND_Dark - No Street Lights', 'LIGHTCOND_Dark - Street Lights Off', 'LIGHTCOND_Dark - Street Lights On', 'LIGHTCOND_Dawn', 'LIGHTCOND_Daylight', 'LIGHTCOND_Dusk']]\n",
    "X.head()"
   ]
  },
  {
   "cell_type": "code",
   "execution_count": 139,
   "metadata": {},
   "outputs": [],
   "source": [
    "from sklearn.model_selection import cross_val_score\n",
    "from sklearn.linear_model import LogisticRegression\n",
    "from sklearn.preprocessing import StandardScaler\n",
    "from sklearn.metrics import confusion_matrix\n",
    "from sklearn.metrics import precision_recall_fscore_support\n",
    "from sklearn.metrics import classification_report\n",
    "from sklearn.model_selection import train_test_split\n",
    "from sklearn.metrics import accuracy_score\n",
    "from sklearn.metrics import f1_score"
   ]
  },
  {
   "cell_type": "code",
   "execution_count": 140,
   "metadata": {},
   "outputs": [],
   "source": [
    "X_train, X_test, y_train, y_test=train_test_split(X,y,test_size=0.25,random_state=1)"
   ]
  },
  {
   "cell_type": "code",
   "execution_count": 141,
   "metadata": {},
   "outputs": [],
   "source": [
    "clf_LR = LogisticRegression(random_state=0)\n",
    "clf_LR_balanced = LogisticRegression(random_state=0,class_weight='balanced')"
   ]
  },
  {
   "cell_type": "code",
   "execution_count": 142,
   "metadata": {},
   "outputs": [
    {
     "name": "stderr",
     "output_type": "stream",
     "text": [
      "C:\\Users\\cklui\\Anaconda3\\lib\\site-packages\\sklearn\\linear_model\\logistic.py:432: FutureWarning: Default solver will be changed to 'lbfgs' in 0.22. Specify a solver to silence this warning.\n",
      "  FutureWarning)\n"
     ]
    },
    {
     "name": "stdout",
     "output_type": "stream",
     "text": [
      "0.7012972156764053\n"
     ]
    }
   ],
   "source": [
    "y_hat_LR=clf_LR.fit(X_train,y_train).predict(X_test)\n",
    "print(accuracy_score(y_test,y_hat_LR))"
   ]
  },
  {
   "cell_type": "code",
   "execution_count": 143,
   "metadata": {},
   "outputs": [
    {
     "name": "stderr",
     "output_type": "stream",
     "text": [
      "C:\\Users\\cklui\\Anaconda3\\lib\\site-packages\\sklearn\\linear_model\\logistic.py:432: FutureWarning: Default solver will be changed to 'lbfgs' in 0.22. Specify a solver to silence this warning.\n",
      "  FutureWarning)\n"
     ]
    },
    {
     "name": "stdout",
     "output_type": "stream",
     "text": [
      "0.6294127067651971\n"
     ]
    }
   ],
   "source": [
    "y_hat_LR_balanced=clf_LR_balanced.fit(X_train,y_train).predict(X_test)\n",
    "print(accuracy_score(y_test,y_hat_LR_balanced))"
   ]
  },
  {
   "cell_type": "code",
   "execution_count": 144,
   "metadata": {},
   "outputs": [
    {
     "name": "stdout",
     "output_type": "stream",
     "text": [
      "              precision    recall  f1-score   support\n",
      "\n",
      "           1       0.70      0.99      0.82     29787\n",
      "           2       0.76      0.09      0.16     13922\n",
      "\n",
      "    accuracy                           0.70     43709\n",
      "   macro avg       0.73      0.54      0.49     43709\n",
      "weighted avg       0.72      0.70      0.61     43709\n",
      "\n",
      "              precision    recall  f1-score   support\n",
      "\n",
      "           1       0.76      0.67      0.71     29787\n",
      "           2       0.43      0.54      0.48     13922\n",
      "\n",
      "    accuracy                           0.63     43709\n",
      "   macro avg       0.60      0.61      0.60     43709\n",
      "weighted avg       0.65      0.63      0.64     43709\n",
      "\n"
     ]
    }
   ],
   "source": [
    "print(classification_report(y_test,y_hat_LR))\n",
    "print(classification_report(y_test,y_hat_LR_balanced))"
   ]
  },
  {
   "cell_type": "code",
   "execution_count": 145,
   "metadata": {},
   "outputs": [],
   "source": [
    "from sklearn.tree import DecisionTreeClassifier\n",
    "clf_DT = DecisionTreeClassifier(random_state=0)\n",
    "clf_DT_balanced = DecisionTreeClassifier(random_state=0,class_weight='balanced')"
   ]
  },
  {
   "cell_type": "code",
   "execution_count": 146,
   "metadata": {},
   "outputs": [],
   "source": [
    "y_hat_DT=clf_DT.fit(X_train,y_train).predict(X_test)\n",
    "y_hat_DT_balanced=clf_DT_balanced.fit(X_train,y_train).predict(X_test)"
   ]
  },
  {
   "cell_type": "code",
   "execution_count": 147,
   "metadata": {},
   "outputs": [
    {
     "name": "stdout",
     "output_type": "stream",
     "text": [
      "              precision    recall  f1-score   support\n",
      "\n",
      "           1       0.70      0.99      0.82     29787\n",
      "           2       0.81      0.08      0.15     13922\n",
      "\n",
      "    accuracy                           0.70     43709\n",
      "   macro avg       0.76      0.54      0.48     43709\n",
      "weighted avg       0.74      0.70      0.61     43709\n",
      "\n",
      "              precision    recall  f1-score   support\n",
      "\n",
      "           1       0.77      0.56      0.65     29787\n",
      "           2       0.41      0.65      0.50     13922\n",
      "\n",
      "    accuracy                           0.59     43709\n",
      "   macro avg       0.59      0.61      0.58     43709\n",
      "weighted avg       0.66      0.59      0.60     43709\n",
      "\n"
     ]
    }
   ],
   "source": [
    "print(classification_report(y_test,y_hat_DT))\n",
    "print(classification_report(y_test,y_hat_DT_balanced))"
   ]
  },
  {
   "cell_type": "code",
   "execution_count": 148,
   "metadata": {},
   "outputs": [],
   "source": [
    "from sklearn.ensemble import RandomForestClassifier\n",
    "clf_RF = RandomForestClassifier(random_state=0)\n",
    "clf_RF_balanced = RandomForestClassifier(random_state=0,class_weight='balanced')"
   ]
  },
  {
   "cell_type": "code",
   "execution_count": 149,
   "metadata": {},
   "outputs": [
    {
     "name": "stderr",
     "output_type": "stream",
     "text": [
      "C:\\Users\\cklui\\Anaconda3\\lib\\site-packages\\sklearn\\ensemble\\forest.py:245: FutureWarning: The default value of n_estimators will change from 10 in version 0.20 to 100 in 0.22.\n",
      "  \"10 in version 0.20 to 100 in 0.22.\", FutureWarning)\n",
      "C:\\Users\\cklui\\Anaconda3\\lib\\site-packages\\sklearn\\ensemble\\forest.py:245: FutureWarning: The default value of n_estimators will change from 10 in version 0.20 to 100 in 0.22.\n",
      "  \"10 in version 0.20 to 100 in 0.22.\", FutureWarning)\n"
     ]
    }
   ],
   "source": [
    "y_hat_RF=clf_RF.fit(X_train,y_train).predict(X_test)\n",
    "y_hat_RF_balanced=clf_RF_balanced.fit(X_train,y_train).predict(X_test)"
   ]
  },
  {
   "cell_type": "code",
   "execution_count": 150,
   "metadata": {},
   "outputs": [
    {
     "name": "stdout",
     "output_type": "stream",
     "text": [
      "              precision    recall  f1-score   support\n",
      "\n",
      "           1       0.70      0.99      0.82     29787\n",
      "           2       0.81      0.08      0.15     13922\n",
      "\n",
      "    accuracy                           0.70     43709\n",
      "   macro avg       0.76      0.54      0.48     43709\n",
      "weighted avg       0.73      0.70      0.61     43709\n",
      "\n",
      "              precision    recall  f1-score   support\n",
      "\n",
      "           1       0.77      0.56      0.65     29787\n",
      "           2       0.41      0.65      0.50     13922\n",
      "\n",
      "    accuracy                           0.59     43709\n",
      "   macro avg       0.59      0.61      0.58     43709\n",
      "weighted avg       0.66      0.59      0.60     43709\n",
      "\n"
     ]
    }
   ],
   "source": [
    "print(classification_report(y_test,y_hat_RF))\n",
    "print(classification_report(y_test,y_hat_RF_balanced))"
   ]
  },
  {
   "cell_type": "code",
   "execution_count": 151,
   "metadata": {},
   "outputs": [
    {
     "data": {
      "text/plain": [
       "array([0.00778641, 0.16367124, 0.22489295, 0.04095505, 0.03511297,\n",
       "       0.46256773, 0.0347782 , 0.00472636, 0.00228309, 0.00927743,\n",
       "       0.00152558, 0.01013672, 0.00228627])"
      ]
     },
     "execution_count": 151,
     "metadata": {},
     "output_type": "execute_result"
    }
   ],
   "source": [
    "model=clf_RF.fit(X_train,y_train)\n",
    "importances = model.feature_importances_\n",
    "importances"
   ]
  },
  {
   "cell_type": "code",
   "execution_count": 152,
   "metadata": {},
   "outputs": [],
   "source": [
    "from sklearn.svm import LinearSVC\n",
    "clf_SVM = LinearSVC(random_state=0)\n",
    "clf_SVM_balanced = LinearSVC(random_state=0,class_weight='balanced')"
   ]
  },
  {
   "cell_type": "code",
   "execution_count": 153,
   "metadata": {},
   "outputs": [],
   "source": [
    "y_hat_SVM=clf_SVM.fit(X_train,y_train).predict(X_test)\n",
    "y_hat_SVM_balanced=clf_SVM_balanced.fit(X_train,y_train).predict(X_test)"
   ]
  },
  {
   "cell_type": "code",
   "execution_count": 154,
   "metadata": {},
   "outputs": [
    {
     "name": "stdout",
     "output_type": "stream",
     "text": [
      "              precision    recall  f1-score   support\n",
      "\n",
      "           1       0.70      0.99      0.82     29787\n",
      "           2       0.76      0.09      0.16     13922\n",
      "\n",
      "    accuracy                           0.70     43709\n",
      "   macro avg       0.73      0.54      0.49     43709\n",
      "weighted avg       0.72      0.70      0.61     43709\n",
      "\n",
      "              precision    recall  f1-score   support\n",
      "\n",
      "           1       0.76      0.67      0.71     29787\n",
      "           2       0.43      0.54      0.48     13922\n",
      "\n",
      "    accuracy                           0.63     43709\n",
      "   macro avg       0.60      0.61      0.60     43709\n",
      "weighted avg       0.65      0.63      0.64     43709\n",
      "\n"
     ]
    }
   ],
   "source": [
    "print(classification_report(y_test,y_hat_SVM))\n",
    "print(classification_report(y_test,y_hat_SVM_balanced))"
   ]
  },
  {
   "cell_type": "code",
   "execution_count": 155,
   "metadata": {},
   "outputs": [
    {
     "name": "stdout",
     "output_type": "stream",
     "text": [
      "0.7012972156764053\n",
      "0.6294127067651971\n",
      "0.7015260015099865\n",
      "0.589420943055206\n",
      "0.7015946372600609\n",
      "0.5895353359719966\n",
      "0.7013658514264797\n",
      "0.6289551350980347\n"
     ]
    }
   ],
   "source": [
    "print(accuracy_score(y_test,y_hat_LR))\n",
    "print(accuracy_score(y_test,y_hat_LR_balanced))\n",
    "print(accuracy_score(y_test,y_hat_DT))\n",
    "print(accuracy_score(y_test,y_hat_DT_balanced))\n",
    "print(accuracy_score(y_test,y_hat_RF))\n",
    "print(accuracy_score(y_test,y_hat_RF_balanced))\n",
    "print(accuracy_score(y_test,y_hat_SVM))\n",
    "print(accuracy_score(y_test,y_hat_SVM_balanced))"
   ]
  },
  {
   "cell_type": "code",
   "execution_count": null,
   "metadata": {},
   "outputs": [],
   "source": []
  }
 ],
 "metadata": {
  "kernelspec": {
   "display_name": "Python 3",
   "language": "python",
   "name": "python3"
  },
  "language_info": {
   "codemirror_mode": {
    "name": "ipython",
    "version": 3
   },
   "file_extension": ".py",
   "mimetype": "text/x-python",
   "name": "python",
   "nbconvert_exporter": "python",
   "pygments_lexer": "ipython3",
   "version": "3.7.4"
  }
 },
 "nbformat": 4,
 "nbformat_minor": 2
}
